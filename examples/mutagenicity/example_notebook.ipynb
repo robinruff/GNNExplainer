{
 "cells": [
  {
   "cell_type": "code",
   "execution_count": 3,
   "id": "otherwise-border",
   "metadata": {},
   "outputs": [],
   "source": [
    "# Imports\n",
    "\n",
    "import tensorflow as tf\n",
    "from sklearn.model_selection import train_test_split\n",
    "from sklearn.cluster import DBSCAN\n",
    "import matplotlib.pyplot as plt\n",
    "import networkx as nx\n",
    "import numpy as np\n",
    "\n",
    "import gnnx\n",
    "\n",
    "from kgcnn.utils.adj import precompute_adjacency_scaled, scaled_adjacency_to_list\n",
    "from kgcnn.literature.GCN import getmodelGCN\n",
    "\n",
    "from scipy.cluster.hierarchy import dendrogram, linkage\n",
    "from scipy.spatial.distance import cdist\n",
    "from sklearn.cluster import AgglomerativeClustering"
   ]
  },
  {
   "cell_type": "markdown",
   "id": "focal-dance",
   "metadata": {},
   "source": [
    "## Load the Dataset (Mutagenicity)"
   ]
  },
  {
   "cell_type": "code",
   "execution_count": 4,
   "id": "occupied-stevens",
   "metadata": {},
   "outputs": [],
   "source": [
    "from dataloader import load_mutagenicity\n",
    "mutag_graphs, mutag_labels = load_mutagenicity('./data', filter_invalid_molecules=True)"
   ]
  },
  {
   "cell_type": "markdown",
   "id": "southwest-award",
   "metadata": {},
   "source": [
    "Preprocessing of the graphs & splitting in training and validation set:"
   ]
  },
  {
   "cell_type": "code",
   "execution_count": 5,
   "id": "elder-harris",
   "metadata": {},
   "outputs": [],
   "source": [
    "def get_tensor_representation(graphs):\n",
    "    node_features = []\n",
    "    node_lengths = []\n",
    "    edge_weights = []\n",
    "    edge_lengths = []\n",
    "    edge_indices = []\n",
    "    for graph in graphs:\n",
    "        adjacency_matrix = nx.linalg.graphmatrix.adjacency_matrix(graph)\n",
    "        edge_information = scaled_adjacency_to_list(precompute_adjacency_scaled(adjacency_matrix))\n",
    "        edge_indices.append(edge_information[0])\n",
    "        edge_weights.append(edge_information[1])\n",
    "        edge_lengths.append(len(edge_information[0]))\n",
    "        node_information = np.array([graph.nodes[n]['features'] for n in graph.nodes])\n",
    "        node_features.append(node_information)\n",
    "        node_lengths.append(len(node_information))\n",
    "    node_features = np.vstack(node_features)\n",
    "    node_features_ragged = tf.RaggedTensor.from_row_lengths(node_features, np.array(node_lengths, dtype=np.int))\n",
    "    edge_weights = np.expand_dims(np.hstack(edge_weights), axis=-1).astype(np.float32)\n",
    "    edge_weights_ragged =tf.RaggedTensor.from_row_lengths(edge_weights, np.array(edge_lengths, dtype=np.int))\n",
    "    edge_indices = np.vstack(edge_indices)\n",
    "    edge_indices_ragged =tf.RaggedTensor.from_row_lengths(edge_indices, np.array(edge_lengths, dtype=np.int))\n",
    "    return [node_features_ragged, edge_weights_ragged, edge_indices_ragged]"
   ]
  },
  {
   "cell_type": "code",
   "execution_count": 6,
   "id": "brave-partition",
   "metadata": {},
   "outputs": [],
   "source": [
    "x_train, val_graphs, y_train, y_val = train_test_split(mutag_graphs, mutag_labels, train_size=0.8, random_state=1)\n",
    "x_train = get_tensor_representation(x_train)\n",
    "x_val = get_tensor_representation(val_graphs)\n",
    "y_train = np.expand_dims(np.array(y_train), axis=-1)\n",
    "y_val = np.expand_dims(np.array(y_val), axis=-1)"
   ]
  },
  {
   "cell_type": "markdown",
   "id": "hindu-western",
   "metadata": {},
   "source": [
    "## Training of GNN"
   ]
  },
  {
   "cell_type": "code",
   "execution_count": 7,
   "id": "divine-sphere",
   "metadata": {},
   "outputs": [
    {
     "name": "stderr",
     "output_type": "stream",
     "text": [
      "/pfs/work7/workspace/scratch/upnub-gnnx-0/conda/envs/gnnx2/lib/python3.6/site-packages/tensorflow/python/framework/indexed_slices.py:434: UserWarning: Converting sparse IndexedSlices to a dense Tensor of unknown shape. This may consume a large amount of memory.\n",
      "  \"Converting sparse IndexedSlices to a dense Tensor of unknown shape. \"\n"
     ]
    },
    {
     "name": "stdout",
     "output_type": "stream",
     "text": [
      "3232/3232 [==============================] - 21s 7ms/step - loss: 0.6464 - accuracy: 0.6244\n",
      "26/26 [==============================] - 0s 17ms/step - loss: 0.6001 - accuracy: 0.7327\n",
      "Epoch 2/2\n",
      "3232/3232 [==============================] - 22s 7ms/step - loss: 0.5783 - accuracy: 0.7107\n",
      "26/26 [==============================] - 0s 18ms/step - loss: 0.6106 - accuracy: 0.6795\n",
      "Epoch 3/3\n",
      "3232/3232 [==============================] - 21s 7ms/step - loss: 0.5639 - accuracy: 0.7225\n",
      "26/26 [==============================] - 0s 17ms/step - loss: 0.5438 - accuracy: 0.7475\n",
      "Epoch 4/4\n",
      "3232/3232 [==============================] - 21s 6ms/step - loss: 0.5539 - accuracy: 0.7302\n",
      "26/26 [==============================] - 0s 17ms/step - loss: 0.5375 - accuracy: 0.7438\n",
      "Epoch 5/5\n",
      "3232/3232 [==============================] - 23s 7ms/step - loss: 0.5449 - accuracy: 0.7336\n",
      "26/26 [==============================] - 1s 27ms/step - loss: 0.5436 - accuracy: 0.7401\n",
      "Epoch 6/6\n",
      "3232/3232 [==============================] - 38s 12ms/step - loss: 0.5270 - accuracy: 0.7450\n",
      "26/26 [==============================] - 1s 28ms/step - loss: 0.5657 - accuracy: 0.7079\n",
      "Epoch 7/7\n",
      "3232/3232 [==============================] - 38s 12ms/step - loss: 0.5138 - accuracy: 0.7624\n",
      "26/26 [==============================] - 1s 29ms/step - loss: 0.5077 - accuracy: 0.7710\n",
      "Epoch 8/8\n",
      "3232/3232 [==============================] - 33s 10ms/step - loss: 0.5024 - accuracy: 0.7645\n",
      "26/26 [==============================] - 0s 17ms/step - loss: 0.5119 - accuracy: 0.7673\n"
     ]
    },
    {
     "data": {
      "image/png": "[encoded data removed]",
      "text/plain": [
       "<Figure size 432x288 with 1 Axes>"
      ]
     },
     "metadata": {
      "needs_background": "light"
     },
     "output_type": "display_data"
    }
   ],
   "source": [
    "model = getmodelGCN(# Input\n",
    "                    input_node_shape = [None, 14],\n",
    "                    input_edge_shape = [None,1],\n",
    "                    input_state_shape = [1],\n",
    "                    input_node_vocab = 100,\n",
    "                    input_edge_vocab = 10,\n",
    "                    input_state_vocab = 100,\n",
    "                    input_node_embedd = 64,\n",
    "                    input_edge_embedd = 64,\n",
    "                    input_state_embedd = 64,\n",
    "                    input_type = 'ragged', \n",
    "                    # Output\n",
    "                    output_embedd = 'graph',\n",
    "                    output_use_bias = [True,True,True,True,True,True,False],\n",
    "                    output_dim = [25,25,25,25,25,25,1],\n",
    "                    output_activation = ['relu','relu','relu','relu','relu','relu','sigmoid'],\n",
    "                    output_kernel_regularizer = [None,None,None,None,None,None,None],\n",
    "                    output_activity_regularizer = [None,None,None,None,None,None,None],\n",
    "                    output_bias_regularizer = [None,None,None,None,None,None,None],\n",
    "                    output_type = 'padded',\n",
    "                    #Model specific\n",
    "                    depth = 7,\n",
    "                    hidden_dim = 100, \n",
    "                    use_bias = False,\n",
    "                    activation = 'relu',\n",
    "                    graph_labeling = True,\n",
    "                    is_sorted=True,\n",
    "                    has_unconnected=False)\n",
    "\n",
    "\n",
    "learning_rate = 1e-4\n",
    "epo = 8\n",
    "epostep = 1\n",
    "optimizer = tf.keras.optimizers.Adam(lr=learning_rate)\n",
    "\n",
    "model.compile(loss='binary_crossentropy',\n",
    "              optimizer=optimizer,\n",
    "              weighted_metrics = ['accuracy'])\n",
    "\n",
    "trainlossall = []\n",
    "testlossall = []\n",
    "validlossall = []\n",
    "\n",
    "for iepoch in range(0,epo,epostep):\n",
    "\n",
    "    hist = model.fit(x_train, y_train, \n",
    "              epochs=iepoch+epostep,\n",
    "              initial_epoch=iepoch,\n",
    "              batch_size=1,\n",
    "              verbose=1)\n",
    "\n",
    "    trainlossall.append(hist.history)\n",
    "    testlossall.append(model.evaluate(x_val, y_val))    \n",
    "\n",
    "testlossall = np.array(testlossall)\n",
    "trainlossall = np.concatenate([x['accuracy'] for x in trainlossall])\n",
    "\n",
    "\n",
    "#Plot loss vs epochs    \n",
    "plt.figure()\n",
    "plt.plot(np.arange(1,len(trainlossall)+1),trainlossall,label='Training Loss',c='blue')\n",
    "plt.plot(np.arange(epostep,epo+epostep,epostep),testlossall[:,1],label='Test Loss',c='red')\n",
    "plt.xlabel('Epochs')\n",
    "plt.ylabel('Accuracy')\n",
    "plt.title('GCN')\n",
    "plt.legend(loc='lower right',fontsize='x-large')\n",
    "plt.show()"
   ]
  },
  {
   "cell_type": "code",
   "execution_count": 8,
   "id": "ruled-folks",
   "metadata": {},
   "outputs": [
    {
     "name": "stdout",
     "output_type": "stream",
     "text": [
      "26/26 [==============================] - 0s 16ms/step - loss: 0.5119 - accuracy: 0.7673\n"
     ]
    },
    {
     "data": {
      "text/plain": [
       "[0.5118700265884399, 0.7673267126083374]"
      ]
     },
     "execution_count": 8,
     "metadata": {},
     "output_type": "execute_result"
    }
   ],
   "source": [
    "model.evaluate(x_val, y_val)"
   ]
  },
  {
   "cell_type": "markdown",
   "id": "younger-shipping",
   "metadata": {},
   "source": [
    "## Implementation of the `gnnx.GNNInterface`"
   ]
  },
  {
   "cell_type": "code",
   "execution_count": 17,
   "id": "pretty-degree",
   "metadata": {},
   "outputs": [],
   "source": [
    "class ExplainableGCN(gnnx.GNNInterface):\n",
    "    \n",
    "    def __init__(self, gnn_model, **kwargs):\n",
    "        super(ExplainableGCN, self).__init__()\n",
    "        self.gnn_model = gnn_model\n",
    "    \n",
    "    def predict(self, gnn_input, masking_info=None):\n",
    "        return self.gnn_model(gnn_input, training=False)[0]\n",
    "        \n",
    "    def masked_predict(self, gnn_input, edge_mask, feature_mask, node_mask, training=False):\n",
    "        node_input, edge_input, edge_index_input = gnn_input\n",
    "                \n",
    "        masked_edge_input = tf.ragged.map_flat_values(tf.math.multiply, edge_input, edge_mask)\n",
    "        masked_feature_input = tf.ragged.map_flat_values(tf.math.multiply, tf.dtypes.cast(node_input, tf.float32), tf.transpose(feature_mask))\n",
    "        masked_node_feature_input = tf.ragged.map_flat_values(tf.math.multiply, masked_feature_input, node_mask)\n",
    "        masked_pred = self.gnn_model([masked_node_feature_input, masked_edge_input, edge_index_input], training=training)[0]\n",
    "        \n",
    "        return masked_pred\n",
    "    \n",
    "    def get_number_of_nodes(self, gnn_input):\n",
    "        node_input, _ , _ = gnn_input\n",
    "        return node_input[0].shape[0]\n",
    "    \n",
    "    def get_number_of_node_features(self, gnn_input):\n",
    "        node_input, _ , _ = gnn_input\n",
    "        return node_input.shape[2]\n",
    "    \n",
    "    def get_number_of_edges(self, gnn_input):\n",
    "        _ , edge_input, _ = gnn_input\n",
    "        return edge_input[0].shape[0]\n",
    "    \n",
    "    def get_explanation(self, gnn_input, edge_mask, feature_mask, node_mask):\n",
    "        edge_relevance = np.array(edge_mask[:,0])\n",
    "        node_relevance = np.array(node_mask[:,0])\n",
    "        feature_relevance = np.array(feature_mask[:,0])\n",
    "        features = np.array(gnn_input[0][0])\n",
    "        edges = np.array(gnn_input[2][0])\n",
    "        graph = nx.Graph()\n",
    "        for i, f in enumerate(features):\n",
    "            graph.add_node(i, features=f, relevance=node_relevance[i])\n",
    "        for i, e in enumerate(edges):\n",
    "            if edge_relevance is None:\n",
    "                graph.add_edge(e[0], e[1])\n",
    "            else:\n",
    "                graph.add_edge(e[0], e[1], relevance=edge_relevance[i])\n",
    "        return graph, feature_relevance\n",
    "    \n",
    "    def present_explanation(self, explanation, threshold=0.5):\n",
    "        graph = explanation[0]\n",
    "        element_labels = ['C', 'O', 'Cl', 'H', 'N', 'F', 'Br', 'S', 'P', 'I', 'Na', 'K', 'Li', 'Ca']\n",
    "        important_edges = []\n",
    "        color_map = []\n",
    "        node_color_map = []\n",
    "        node_labels = {}\n",
    "        for (u, v, relevance) in graph.edges.data('relevance'):\n",
    "            relevance = min(relevance + 0.1, 1.0)\n",
    "            color_map.append((0,0,0,relevance))\n",
    "        for n, f in graph.nodes.data('features'):\n",
    "            element = np.argmax(f)\n",
    "            r,g,b,a = plt.get_cmap('tab20')(element)\n",
    "            node_color_map.append((r,g,b,graph.nodes[n]['relevance']))\n",
    "            node_labels[n] = (element_labels[element])\n",
    "        if np.all(explanation[1] == 1):  \n",
    "            nx.draw_kamada_kawai(graph, edge_color=color_map, labels=node_labels, node_color=node_color_map)\n",
    "        else:\n",
    "            f, axs = plt.subplots(2,figsize=(8,12))\n",
    "            nx.draw_kamada_kawai(graph, ax=axs[0], edge_color=color_map, labels=node_labels, node_color=node_color_map)\n",
    "            bar_colors = [plt.get_cmap('tab20')(element) for element in np.arange(14)]\n",
    "            axs[1].bar(np.array(element_labels),explanation[1], color=bar_colors)"
   ]
  },
  {
   "cell_type": "markdown",
   "id": "polish-composer",
   "metadata": {},
   "source": [
    "Instanciate a Explainable GNN:"
   ]
  },
  {
   "cell_type": "code",
   "execution_count": 18,
   "id": "answering-height",
   "metadata": {},
   "outputs": [],
   "source": [
    "explainable_gcn = ExplainableGCN(model)"
   ]
  },
  {
   "cell_type": "code",
   "execution_count": 19,
   "id": "palestinian-belfast",
   "metadata": {},
   "outputs": [],
   "source": [
    "compile_options = {'loss': 'binary_crossentropy', 'optimizer': tf.keras.optimizers.Adam(lr=0.2)}\n",
    "fit_options={'epochs': 100, 'batch_size': 1, 'verbose': 0}\n",
    "gnnexplaineroptimizer_options = {'edge_mask_loss_weight': 0.001,\n",
    "                 'edge_mask_norm_ord': 1,\n",
    "                 'feature_mask_loss_weight': 0,\n",
    "                 'feature_mask_norm_ord': 1,\n",
    "                 'node_mask_loss_weight': 0,\n",
    "                 'node_mask_norm_ord': 1}\n",
    "\n",
    "explainer = gnnx.GNNExplainer(explainable_gcn,\n",
    "                              compile_options=compile_options,\n",
    "                              fit_options=fit_options,\n",
    "                              gnnexplaineroptimizer_options=gnnexplaineroptimizer_options)"
   ]
  },
  {
   "cell_type": "markdown",
   "id": "executed-impression",
   "metadata": {},
   "source": [
    "Explain Single Instance and check setup:"
   ]
  },
  {
   "cell_type": "code",
   "execution_count": 20,
   "id": "super-evaluation",
   "metadata": {},
   "outputs": [
    {
     "name": "stdout",
     "output_type": "stream",
     "text": [
      "CPU times: user 11.3 s, sys: 71.2 ms, total: 11.4 s\n",
      "Wall time: 12 s\n"
     ]
    },
    {
     "data": {
      "image/png": "[encoded data removed]",
      "text/plain": [
       "<Figure size 432x288 with 1 Axes>"
      ]
     },
     "metadata": {},
     "output_type": "display_data"
    }
   ],
   "source": [
    "%%time\n",
    "inspection_result = explainer.explain(get_tensor_representation([val_graphs[786]]), inspection=True)\n",
    "#inspection_result = explainer.explain(get_tensor_representation([val_graphs[264]]), output_to_explain=tf.Variable([0.]), inspection=True)\n",
    "\n",
    "explainer.present_explanation(explainer.get_explanation(), threshold=0.5)"
   ]
  },
  {
   "cell_type": "code",
   "execution_count": 21,
   "id": "tamil-alias",
   "metadata": {},
   "outputs": [
    {
     "data": {
      "text/plain": [
       "Text(0, 0.5, 'GNN output')"
      ]
     },
     "execution_count": 21,
     "metadata": {},
     "output_type": "execute_result"
    },
    {
     "data": {
      "image/png": "[encoded data removed]",
      "text/plain": [
       "<Figure size 432x288 with 1 Axes>"
      ]
     },
     "metadata": {
      "needs_background": "light"
     },
     "output_type": "display_data"
    }
   ],
   "source": [
    "plt.plot(inspection_result['predictions'])\n",
    "plt.xlabel('Iterations')\n",
    "plt.ylabel('GNN output')"
   ]
  },
  {
   "cell_type": "code",
   "execution_count": 22,
   "id": "documentary-gravity",
   "metadata": {},
   "outputs": [
    {
     "data": {
      "text/plain": [
       "Text(0, 0.5, 'Total Loss')"
      ]
     },
     "execution_count": 22,
     "metadata": {},
     "output_type": "execute_result"
    },
    {
     "data": {
      "image/png": "[encoded data removed]",
      "text/plain": [
       "<Figure size 432x288 with 1 Axes>"
      ]
     },
     "metadata": {
      "needs_background": "light"
     },
     "output_type": "display_data"
    }
   ],
   "source": [
    "plt.plot(inspection_result['total_loss'])\n",
    "plt.xlabel('Iterations')\n",
    "plt.ylabel('Total Loss')"
   ]
  },
  {
   "cell_type": "code",
   "execution_count": 23,
   "id": "hairy-carnival",
   "metadata": {},
   "outputs": [
    {
     "data": {
      "text/plain": [
       "Text(0, 0.5, 'Node Mask Loss')"
      ]
     },
     "execution_count": 23,
     "metadata": {},
     "output_type": "execute_result"
    },
    {
     "data": {
      "image/png": "[encoded data removed]",
      "text/plain": [
       "<Figure size 432x288 with 1 Axes>"
      ]
     },
     "metadata": {
      "needs_background": "light"
     },
     "output_type": "display_data"
    }
   ],
   "source": [
    "plt.plot(inspection_result['edge_mask_loss'])\n",
    "plt.xlabel('Iterations')\n",
    "plt.ylabel('Node Mask Loss')"
   ]
  }
 ],
 "metadata": {
  "kernelspec": {
   "display_name": "gnnx2",
   "language": "python",
   "name": "gnnx2"
  },
  "language_info": {
   "codemirror_mode": {
    "name": "ipython",
    "version": 3
   },
   "file_extension": ".py",
   "mimetype": "text/x-python",
   "name": "python",
   "nbconvert_exporter": "python",
   "pygments_lexer": "ipython3",
   "version": "3.6.12"
  }
 },
 "nbformat": 4,
 "nbformat_minor": 5
}
