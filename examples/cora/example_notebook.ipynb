{
 "cells": [
  {
   "cell_type": "code",
   "execution_count": 3,
   "id": "altered-crowd",
   "metadata": {},
   "outputs": [],
   "source": [
    "# Imports\n",
    "\n",
    "import tensorflow as tf\n",
    "from sklearn.model_selection import train_test_split\n",
    "import matplotlib.pyplot as plt\n",
    "import networkx as nx\n",
    "import numpy as np\n",
    "\n",
    "import gnnx\n",
    "\n",
    "from kgcnn.utils.adj import precompute_adjacency_scaled, scaled_adjacency_to_list\n",
    "from kgcnn.literature.GCN import getmodelGCN\n",
    "from kgcnn.utils.learning import lr_lin_reduction"
   ]
  },
  {
   "cell_type": "markdown",
   "id": "major-accreditation",
   "metadata": {},
   "source": [
    "## Loading the Graph Data"
   ]
  },
  {
   "cell_type": "code",
   "execution_count": 4,
   "id": "overall-geneva",
   "metadata": {},
   "outputs": [],
   "source": [
    "from dataloader import load_cora\n",
    "cora_graph = load_cora('./data/csv/', categorial_class_labels=True)\n",
    "\n",
    "def get_label_color(label):\n",
    "    return plt.get_cmap('Set1')(label/7)\n",
    "    \n",
    "def get_label_name(label):\n",
    "    return [\"Case_Based\",\n",
    "\t\t\"Genetic_Algorithms\",\n",
    "\t\t\"Neural_Networks\",\n",
    "\t\t\"Probabilistic_Methods\",\n",
    "\t\t\"Reinforcement_Learning\",\n",
    "\t\t\"Rule_Learning\",\n",
    "\t\t\"Theory\"][label]"
   ]
  },
  {
   "cell_type": "markdown",
   "id": "better-operator",
   "metadata": {},
   "source": [
    "## Preprocessing the Graph Data"
   ]
  },
  {
   "cell_type": "code",
   "execution_count": 5,
   "id": "opposed-clock",
   "metadata": {},
   "outputs": [],
   "source": [
    "adjacency_matrix = nx.linalg.graphmatrix.adjacency_matrix(cora_graph)\n",
    "edge_indices, edge_weights = scaled_adjacency_to_list(precompute_adjacency_scaled(adjacency_matrix))\n",
    "node_features = np.array([cora_graph.nodes[n]['features'] for n in cora_graph.nodes])\n",
    "node_labels = np.array([cora_graph.nodes[n]['label'] for n in cora_graph.nodes])\n",
    "\n",
    "# GNN input [node_feature, edge_weights, edge_indices]\n",
    "x = [tf.RaggedTensor.from_row_lengths(node_features, np.array([len(node_features)], dtype=np.int)),\n",
    "             tf.RaggedTensor.from_row_lengths(np.expand_dims(edge_weights, axis=-1), np.array([len(edge_weights)], dtype=np.int)),\n",
    "             tf.RaggedTensor.from_row_lengths(edge_indices, np.array([len(edge_indices)], dtype=np.int))]\n",
    "# Ground truth labels\n",
    "y = np.expand_dims(node_labels, axis=0)"
   ]
  },
  {
   "cell_type": "code",
   "execution_count": 6,
   "id": "liable-cargo",
   "metadata": {},
   "outputs": [],
   "source": [
    "train_ind, validation_ind = train_test_split(np.arange(node_labels.shape[0]), random_state=0)\n",
    "\n",
    "train_mask = np.zeros(node_labels.shape[0])\n",
    "train_mask[train_ind] = 1\n",
    "train_mask = np.expand_dims(train_mask,axis=0)\n",
    "\n",
    "validation_mask = np.zeros(node_labels.shape[0])\n",
    "validation_mask[validation_ind] = 1\n",
    "validation_mask = np.expand_dims(validation_mask, axis=0)"
   ]
  },
  {
   "cell_type": "markdown",
   "id": "thorough-anatomy",
   "metadata": {},
   "source": [
    "## Train the GNN Model"
   ]
  },
  {
   "cell_type": "code",
   "execution_count": 7,
   "id": "curious-owner",
   "metadata": {},
   "outputs": [
    {
     "name": "stderr",
     "output_type": "stream",
     "text": [
      "/pfs/work7/workspace/scratch/upnub-gnnx-0/conda/envs/gnnx2/lib/python3.6/site-packages/tensorflow/python/framework/indexed_slices.py:434: UserWarning: Converting sparse IndexedSlices to a dense Tensor of unknown shape. This may consume a large amount of memory.\n",
      "  \"Converting sparse IndexedSlices to a dense Tensor of unknown shape. \"\n"
     ]
    },
    {
     "name": "stdout",
     "output_type": "stream",
     "text": [
      "1/1 [==============================] - 0s 2ms/step - loss: 0.4845 - categorical_accuracy: 0.2688\n",
      "1/1 [==============================] - 0s 2ms/step - loss: 0.4825 - categorical_accuracy: 0.2629\n",
      "1/1 [==============================] - 0s 2ms/step - loss: 0.4795 - categorical_accuracy: 0.2629\n",
      "1/1 [==============================] - 0s 3ms/step - loss: 0.4749 - categorical_accuracy: 0.2629\n",
      "1/1 [==============================] - 0s 2ms/step - loss: 0.4682 - categorical_accuracy: 0.2629\n",
      "1/1 [==============================] - 0s 2ms/step - loss: 0.4582 - categorical_accuracy: 0.2688\n",
      "1/1 [==============================] - 0s 2ms/step - loss: 0.4438 - categorical_accuracy: 0.3028\n",
      "1/1 [==============================] - 0s 2ms/step - loss: 0.4237 - categorical_accuracy: 0.4018\n",
      "1/1 [==============================] - 0s 3ms/step - loss: 0.3991 - categorical_accuracy: 0.4948\n",
      "1/1 [==============================] - 0s 1ms/step - loss: 0.3713 - categorical_accuracy: 0.6145\n",
      "1/1 [==============================] - 0s 2ms/step - loss: 0.3424 - categorical_accuracy: 0.6603\n",
      "1/1 [==============================] - 0s 1ms/step - loss: 0.3155 - categorical_accuracy: 0.6913\n",
      "1/1 [==============================] - 0s 2ms/step - loss: 0.2927 - categorical_accuracy: 0.7120\n",
      "1/1 [==============================] - 0s 2ms/step - loss: 0.2739 - categorical_accuracy: 0.7282\n",
      "1/1 [==============================] - 0s 1ms/step - loss: 0.2582 - categorical_accuracy: 0.7341\n",
      "1/1 [==============================] - 0s 1ms/step - loss: 0.2454 - categorical_accuracy: 0.7297\n",
      "1/1 [==============================] - 0s 1ms/step - loss: 0.2360 - categorical_accuracy: 0.7386\n",
      "1/1 [==============================] - 0s 2ms/step - loss: 0.2291 - categorical_accuracy: 0.7474\n",
      "1/1 [==============================] - 0s 2ms/step - loss: 0.2245 - categorical_accuracy: 0.7518\n",
      "1/1 [==============================] - 0s 2ms/step - loss: 0.2214 - categorical_accuracy: 0.7592\n",
      "1/1 [==============================] - 0s 1ms/step - loss: 0.2196 - categorical_accuracy: 0.7607\n",
      "1/1 [==============================] - 0s 2ms/step - loss: 0.2191 - categorical_accuracy: 0.7637\n"
     ]
    },
    {
     "data": {
      "image/png": "[encoded data removed]",
      "text/plain": [
       "<Figure size 432x288 with 1 Axes>"
      ]
     },
     "metadata": {
      "needs_background": "light"
     },
     "output_type": "display_data"
    }
   ],
   "source": [
    "model = getmodelGCN(input_node_shape = [None,1432],\n",
    "                    input_edge_shape = [None,1],\n",
    "                    input_state_shape = [1],\n",
    "                    input_type = 'ragged', \n",
    "                    # Output\n",
    "                    output_use_bias = [True,True,False],\n",
    "                    output_dim = [64,16,7],\n",
    "                    output_activation = ['relu',\n",
    "                                         'relu',\n",
    "                                         'softmax'],\n",
    "                    output_type = 'padded',\n",
    "                    #model specs\n",
    "                    depth = 3,\n",
    "                    node_dim = 124,\n",
    "                    hidden_dim = 124,\n",
    "                    use_bias = True,\n",
    "                    activation = 'relu',\n",
    "                    graph_labeling = False,\n",
    "                    has_unconnected=True)\n",
    "\n",
    "learning_rate_start = 1e-4\n",
    "epo = 220\n",
    "epostep = 10\n",
    "optimizer = tf.keras.optimizers.Adam(lr=learning_rate_start)\n",
    "\n",
    "model.compile(loss='categorical_crossentropy',\n",
    "              optimizer=optimizer,\n",
    "              weighted_metrics = ['categorical_accuracy'])\n",
    "\n",
    "trainlossall = []\n",
    "testlossall = []\n",
    "validlossall = []\n",
    "\n",
    "for iepoch in range(0,epo,epostep):\n",
    "\n",
    "    hist = model.fit(x, y, \n",
    "              epochs=iepoch+epostep,\n",
    "              initial_epoch=iepoch,\n",
    "              batch_size=1,\n",
    "              verbose=0,\n",
    "              sample_weight = train_mask)\n",
    "\n",
    "    trainlossall.append(hist.history)\n",
    "    testlossall.append(model.evaluate(x, y, sample_weight=validation_mask))    \n",
    "\n",
    "testlossall = np.array(testlossall)\n",
    "trainlossall = np.concatenate([x['categorical_accuracy'] for x in trainlossall])\n",
    "\n",
    "\n",
    "#Plot loss vs epochs    \n",
    "plt.figure()\n",
    "plt.plot(np.arange(1,len(trainlossall)+1),trainlossall,label='Training Loss',c='blue')\n",
    "plt.plot(np.arange(epostep,epo+epostep,epostep),testlossall[:,1],label='Test Loss',c='red')\n",
    "plt.xlabel('Epochs')\n",
    "plt.ylabel('Accurarcy')\n",
    "plt.title('GCN')\n",
    "plt.legend(loc='lower right',fontsize='x-large')\n",
    "plt.show()"
   ]
  },
  {
   "cell_type": "code",
   "execution_count": 12,
   "id": "gorgeous-yesterday",
   "metadata": {},
   "outputs": [
    {
     "name": "stdout",
     "output_type": "stream",
     "text": [
      "1/1 [==============================] - 0s 2ms/step - loss: 0.2191 - categorical_accuracy: 0.7637\n"
     ]
    },
    {
     "data": {
      "text/plain": [
       "[0.2191203385591507, 0.7636632323265076]"
      ]
     },
     "execution_count": 12,
     "metadata": {},
     "output_type": "execute_result"
    }
   ],
   "source": [
    "model.evaluate(x, y,sample_weight=validation_mask)"
   ]
  },
  {
   "cell_type": "markdown",
   "id": "unique-lincoln",
   "metadata": {},
   "source": [
    "# Explaining Predictions"
   ]
  },
  {
   "cell_type": "markdown",
   "id": "comparable-fifteen",
   "metadata": {},
   "source": [
    "Implementing the GNNInterface:"
   ]
  },
  {
   "cell_type": "code",
   "execution_count": 13,
   "id": "immune-terrorist",
   "metadata": {},
   "outputs": [],
   "source": [
    "class ExplainableGCN(gnnx.GNNInterface):\n",
    "    \n",
    "    def __init__(self, gnn_model, node_index, **kwargs):\n",
    "        super(ExplainableGCN, self).__init__()\n",
    "        self.gnn_model = gnn_model\n",
    "        self.node_index = node_index\n",
    "    \n",
    "    def predict(self, gnn_input, masking_info=None):\n",
    "        return tf.expand_dims(self.gnn_model(gnn_input, training=False)[0][self.node_index], 0)\n",
    "        \n",
    "    def masked_predict(self, gnn_input, edge_mask, feature_mask, node_mask, training=False):\n",
    "        node_input, edge_input, edge_index_input = gnn_input\n",
    "        \n",
    "        masked_edge_input = tf.ragged.map_flat_values(tf.math.multiply, tf.dtypes.cast(edge_input, tf.float32), edge_mask)\n",
    "        masked_feature_input = tf.ragged.map_flat_values(tf.math.multiply, tf.dtypes.cast(node_input, tf.float32), tf.transpose(feature_mask))\n",
    "        masked_pred = tf.expand_dims(self.gnn_model([masked_feature_input, masked_edge_input, edge_index_input], training=training)[0][self.node_index], 0)\n",
    "        return masked_pred\n",
    "    \n",
    "    def get_number_of_nodes(self, gnn_input):\n",
    "        node_input, _ , _ = gnn_input\n",
    "        return node_input[0].shape[0]\n",
    "    \n",
    "    def get_number_of_node_features(self, gnn_input):\n",
    "        node_input, _ , _ = gnn_input\n",
    "        return node_input[0].shape[1]\n",
    "    \n",
    "    def get_number_of_edges(self, gnn_input):\n",
    "        _ , edge_input, _ = gnn_input\n",
    "        return edge_input[0].shape[0]\n",
    "    \n",
    "    def get_explanation(self, gnn_input, edge_mask, feature_mask, node_mask, node_labels=None):\n",
    "        edge_relevance = np.array(edge_mask[:,0])\n",
    "        node_relevance = np.array(node_mask[:,0])\n",
    "        features = np.array(gnn_input[0][0])\n",
    "        edges = np.array(gnn_input[2][0])\n",
    "        g = nx.Graph()\n",
    "        for i, f in enumerate(features):\n",
    "            if node_labels is None:\n",
    "                g.add_node(i, features=f, relevance=node_relevance[i])\n",
    "            else:\n",
    "                g.add_node(i, features=f, relevance=node_relevance[i], label=node_labels[i])\n",
    "        for i, e in enumerate(edges):\n",
    "            if edge_relevance is None:\n",
    "                g.add_edge(e[0], e[1])\n",
    "            else:\n",
    "                g.add_edge(e[0], e[1], relevance=edge_relevance[i])\n",
    "        return g\n",
    "    \n",
    "    def present_explanation(self, explanation, threshold=0.5):\n",
    "        relevant_edges = []\n",
    "        edge_color_map = []\n",
    "        for (v,u, relevance) in explanation.edges.data('relevance'):\n",
    "            if relevance > threshold:\n",
    "                relevant_edges.append((v,u))\n",
    "                edge_color_map.append((0,0,0,relevance))\n",
    "        subgraph = explanation.edge_subgraph(relevant_edges)\n",
    "        node_colors = []\n",
    "        for n,l in subgraph.nodes.data('label'):\n",
    "            r,g,b,a = get_label_color(l)\n",
    "            a = subgraph.nodes[n]['relevance']\n",
    "            node_colors.append((r,g,b,a))\n",
    "        nx.draw(subgraph, node_color=node_colors, edge_color=edge_color_map, with_labels=True)"
   ]
  },
  {
   "cell_type": "code",
   "execution_count": 14,
   "id": "circular-ethiopia",
   "metadata": {},
   "outputs": [],
   "source": [
    "# Helper functions\n",
    "\n",
    "def get_output_tensor_for_label(label):\n",
    "    assert label >= 0 and label <= 6\n",
    "    output_to_explain = np.zeros(7)\n",
    "    output_to_explain[label] = 1.\n",
    "    output_to_explain = np.expand_dims(output_to_explain, 0)\n",
    "    return tf.Variable(output_to_explain)\n",
    "\n",
    "def get_label_from_tensor(tensor_output):\n",
    "    return np.argmax(tensor_output)"
   ]
  },
  {
   "cell_type": "markdown",
   "id": "studied-winter",
   "metadata": {},
   "source": [
    "Choose a node to explain and instantiate an explainable GNN:"
   ]
  },
  {
   "cell_type": "code",
   "execution_count": 40,
   "id": "amateur-litigation",
   "metadata": {},
   "outputs": [],
   "source": [
    "node_index = np.argwhere(validation_mask[0] == 1)[:,0][0]\n",
    "# node_index = 240\n",
    "explainable_gcn = ExplainableGCN(model, node_index)"
   ]
  },
  {
   "cell_type": "markdown",
   "id": "contained-mobility",
   "metadata": {},
   "source": [
    "Get the prediction of the GNN for the chosen node:"
   ]
  },
  {
   "cell_type": "code",
   "execution_count": 41,
   "id": "aquatic-concord",
   "metadata": {},
   "outputs": [
    {
     "name": "stdout",
     "output_type": "stream",
     "text": [
      "predicted label:  6 Theory\n",
      "node_index:  425\n"
     ]
    }
   ],
   "source": [
    "prediction = explainable_gcn.predict(x)\n",
    "predicted_label = get_label_from_tensor(prediction)\n",
    "print('predicted label: ', predicted_label, get_label_name(predicted_label))\n",
    "print('node_index: ', node_index)"
   ]
  },
  {
   "cell_type": "markdown",
   "id": "intensive-transport",
   "metadata": {},
   "source": [
    "Setup the GNNExplainer:"
   ]
  },
  {
   "cell_type": "code",
   "execution_count": 42,
   "id": "fossil-costs",
   "metadata": {},
   "outputs": [
    {
     "name": "stdout",
     "output_type": "stream",
     "text": [
      "WARNING:tensorflow:Layer gnn_explainer_optimizer_5 is casting an input tensor from dtype float64 to the layer's dtype of float32, which is new behavior in TensorFlow 2.  The layer has dtype float32 because it's dtype defaults to floatx.\n",
      "\n",
      "If you intended to run this layer in float32, you can safely ignore this warning. If in doubt, this warning is likely only an issue if you are porting a TensorFlow 1.X model to TensorFlow 2.\n",
      "\n",
      "To change all layers to have dtype float64 by default, call `tf.keras.backend.set_floatx('float64')`. To change just this layer, pass dtype='float64' to the layer constructor. If you are the author of this layer, you can disable autocasting by passing autocast=False to the base Layer constructor.\n",
      "\n"
     ]
    },
    {
     "name": "stderr",
     "output_type": "stream",
     "text": [
      "/pfs/work7/workspace/scratch/upnub-gnnx-0/conda/envs/gnnx2/lib/python3.6/site-packages/tensorflow/python/framework/indexed_slices.py:434: UserWarning: Converting sparse IndexedSlices to a dense Tensor of unknown shape. This may consume a large amount of memory.\n",
      "  \"Converting sparse IndexedSlices to a dense Tensor of unknown shape. \"\n"
     ]
    }
   ],
   "source": [
    "gnnexplaineroptimizer_options = {'edge_mask_loss_weight': 0.001,\n",
    "                 'edge_mask_norm_ord': 2,\n",
    "                 'feature_mask_loss_weight': 0,\n",
    "                 'feature_mask_norm_ord': 2,\n",
    "                 'node_mask_loss_weight': 0,\n",
    "                 'node_mask_norm_ord': 1}\n",
    "compile_options = {'loss': 'categorical_crossentropy', 'optimizer': tf.keras.optimizers.Adam(lr=1)}\n",
    "fit_options={'epochs': 80, 'verbose': 0}\n",
    "\n",
    "explainer = gnnx.GNNExplainer(explainable_gcn,\n",
    "                         compile_options=compile_options,\n",
    "                         fit_options=fit_options,\n",
    "                         gnnexplaineroptimizer_options=gnnexplaineroptimizer_options)\n",
    "\n"
   ]
  },
  {
   "cell_type": "markdown",
   "id": "labeled-startup",
   "metadata": {},
   "source": [
    "Explain the instance with index `node_index`:"
   ]
  },
  {
   "cell_type": "code",
   "execution_count": 51,
   "id": "hidden-oracle",
   "metadata": {},
   "outputs": [
    {
     "name": "stdout",
     "output_type": "stream",
     "text": [
      "WARNING:tensorflow:Layer gnn_explainer_optimizer_6 is casting an input tensor from dtype float64 to the layer's dtype of float32, which is new behavior in TensorFlow 2.  The layer has dtype float32 because it's dtype defaults to floatx.\n",
      "\n",
      "If you intended to run this layer in float32, you can safely ignore this warning. If in doubt, this warning is likely only an issue if you are porting a TensorFlow 1.X model to TensorFlow 2.\n",
      "\n",
      "To change all layers to have dtype float64 by default, call `tf.keras.backend.set_floatx('float64')`. To change just this layer, pass dtype='float64' to the layer constructor. If you are the author of this layer, you can disable autocasting by passing autocast=False to the base Layer constructor.\n",
      "\n"
     ]
    },
    {
     "name": "stderr",
     "output_type": "stream",
     "text": [
      "/pfs/work7/workspace/scratch/upnub-gnnx-0/conda/envs/gnnx2/lib/python3.6/site-packages/tensorflow/python/framework/indexed_slices.py:434: UserWarning: Converting sparse IndexedSlices to a dense Tensor of unknown shape. This may consume a large amount of memory.\n",
      "  \"Converting sparse IndexedSlices to a dense Tensor of unknown shape. \"\n"
     ]
    }
   ],
   "source": [
    "# inspection_result = explainer.explain(x, output_to_explain=get_output_tensor_for_label(1), inspection=True)\n",
    "inspection_result = explainer.explain(x, inspection=True)"
   ]
  },
  {
   "cell_type": "markdown",
   "id": "interracial-audit",
   "metadata": {},
   "source": [
    "Present the explanation"
   ]
  },
  {
   "cell_type": "code",
   "execution_count": 43,
   "id": "unexpected-owner",
   "metadata": {},
   "outputs": [
    {
     "data": {
      "image/png": "[encoded data removed]",
      "text/plain": [
       "<Figure size 432x288 with 1 Axes>"
      ]
     },
     "metadata": {},
     "output_type": "display_data"
    }
   ],
   "source": [
    "explainer.present_explanation(explainer.get_explanation(node_labels=np.argmax(y[0], axis=1)), threshold=0.1)"
   ]
  },
  {
   "cell_type": "markdown",
   "id": "secret-engineer",
   "metadata": {},
   "source": [
    "Plot the `inspection_result` to see if we chose suitable parameters:"
   ]
  },
  {
   "cell_type": "code",
   "execution_count": 53,
   "id": "played-forestry",
   "metadata": {},
   "outputs": [
    {
     "data": {
      "image/png": "[encoded data removed]",
      "text/plain": [
       "<Figure size 432x288 with 1 Axes>"
      ]
     },
     "metadata": {
      "needs_background": "light"
     },
     "output_type": "display_data"
    }
   ],
   "source": [
    "for i in range(7):\n",
    "    plt.plot(np.array(inspection_result['predictions'])[:,i], color=get_label_color(i))"
   ]
  },
  {
   "cell_type": "code",
   "execution_count": 54,
   "id": "vietnamese-citation",
   "metadata": {},
   "outputs": [
    {
     "data": {
      "text/plain": [
       "[<matplotlib.lines.Line2D at 0x153920c73898>]"
      ]
     },
     "execution_count": 54,
     "metadata": {},
     "output_type": "execute_result"
    },
    {
     "data": {
      "image/png": "[encoded data removed]",
      "text/plain": [
       "<Figure size 432x288 with 1 Axes>"
      ]
     },
     "metadata": {
      "needs_background": "light"
     },
     "output_type": "display_data"
    }
   ],
   "source": [
    "plt.plot(np.array(inspection_result['total_loss']), color=\"black\")"
   ]
  },
  {
   "cell_type": "code",
   "execution_count": 55,
   "id": "adapted-version",
   "metadata": {},
   "outputs": [
    {
     "data": {
      "image/png": "[encoded data removed]",
      "text/plain": [
       "<Figure size 432x288 with 1 Axes>"
      ]
     },
     "metadata": {
      "needs_background": "light"
     },
     "output_type": "display_data"
    }
   ],
   "source": [
    "for i in range(7):\n",
    "    plt.plot(np.array(inspection_result['predictions'])[:,i], color=get_label_color(i))"
   ]
  },
  {
   "cell_type": "code",
   "execution_count": 56,
   "id": "polar-cambodia",
   "metadata": {},
   "outputs": [
    {
     "data": {
      "text/plain": [
       "[<matplotlib.lines.Line2D at 0x153918b28588>]"
      ]
     },
     "execution_count": 56,
     "metadata": {},
     "output_type": "execute_result"
    },
    {
     "data": {
      "image/png": "[encoded data removed]",
      "text/plain": [
       "<Figure size 432x288 with 1 Axes>"
      ]
     },
     "metadata": {
      "needs_background": "light"
     },
     "output_type": "display_data"
    }
   ],
   "source": [
    "plt.plot(np.array(inspection_result['total_loss']), color=\"black\")"
   ]
  },
  {
   "cell_type": "markdown",
   "id": "rural-furniture",
   "metadata": {},
   "source": [
    "For comparison, the 2-hop graph around the chosen instance:"
   ]
  },
  {
   "cell_type": "code",
   "execution_count": 59,
   "id": "considerable-defeat",
   "metadata": {},
   "outputs": [
    {
     "data": {
      "image/png": "[encoded data removed]",
      "text/plain": [
       "<Figure size 432x288 with 1 Axes>"
      ]
     },
     "metadata": {},
     "output_type": "display_data"
    }
   ],
   "source": [
    "hops = 2\n",
    "node_dict = {}\n",
    "for i,n in enumerate(cora_graph.nodes):\n",
    "    node_dict[n] = i\n",
    "relabeled_cora = nx.relabel_nodes(cora_graph.to_undirected(), node_dict)\n",
    "khopgraph = nx.generators.ego.ego_graph(relabeled_cora, node_index, radius=hops)\n",
    "for n in khopgraph.nodes:\n",
    "    khopgraph.nodes[n]['label'] = np.argmax(khopgraph.nodes[n]['label'])\n",
    "    khopgraph.nodes[n]['relevance'] = 1.\n",
    "for (u,v) in khopgraph.edges:\n",
    "    khopgraph.edges[u,v]['relevance'] = 1.0\n",
    "explainer.present_explanation(khopgraph)"
   ]
  }
 ],
 "metadata": {
  "kernelspec": {
   "display_name": "gnnx2",
   "language": "python",
   "name": "gnnx2"
  },
  "language_info": {
   "codemirror_mode": {
    "name": "ipython",
    "version": 3
   },
   "file_extension": ".py",
   "mimetype": "text/x-python",
   "name": "python",
   "nbconvert_exporter": "python",
   "pygments_lexer": "ipython3",
   "version": "3.6.12"
  }
 },
 "nbformat": 4,
 "nbformat_minor": 5
}
